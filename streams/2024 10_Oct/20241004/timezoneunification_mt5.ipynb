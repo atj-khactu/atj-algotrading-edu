{
 "cells": [
  {
   "cell_type": "code",
   "id": "initial_id",
   "metadata": {
    "collapsed": true,
    "ExecuteTime": {
     "end_time": "2024-10-07T12:32:22.288390Z",
     "start_time": "2024-10-07T12:32:22.285125Z"
    }
   },
   "source": [
    "# MT5 return OHLC Data with input (GMT+0) and output (GMT+3)\n",
    "# Trading Bot is using local timezone GMT+2"
   ],
   "outputs": [],
   "execution_count": 1
  },
  {
   "metadata": {
    "ExecuteTime": {
     "end_time": "2024-10-07T13:08:08.967762Z",
     "start_time": "2024-10-07T13:08:08.947492Z"
    }
   },
   "cell_type": "code",
   "source": [
    "from atj_algotrading.backtester import get_ohlc_history\n",
    "from datetime import datetime, timedelta, time\n",
    "import MetaTrader5 as mt5\n",
    "from pytz import timezone\n",
    "\n",
    "mt5.initialize()\n",
    "\n",
    "symbol = 'EURUSD'\n",
    "start_dt = datetime(2024, 10, 7, 9, tzinfo=timezone('GMT+0'))\n",
    "end_dt = datetime(2024, 10, 7, 11, tzinfo=timezone('GMT+0'))\n",
    "\n",
    "ohlc = get_ohlc_history(symbol, mt5.TIMEFRAME_M15, start_dt, end_dt)\n",
    "ohlc"
   ],
   "id": "ebce9d86fd39ff67",
   "outputs": [
    {
     "data": {
      "text/plain": [
       "                 time     open     high      low    close\n",
       "0 2024-10-07 09:00:00  1.09694  1.09702  1.09635  1.09678\n",
       "1 2024-10-07 09:15:00  1.09678  1.09713  1.09639  1.09667\n",
       "2 2024-10-07 09:30:00  1.09667  1.09710  1.09662  1.09710\n",
       "3 2024-10-07 09:45:00  1.09711  1.09724  1.09666  1.09712\n",
       "4 2024-10-07 10:00:00  1.09713  1.09727  1.09677  1.09684\n",
       "5 2024-10-07 10:15:00  1.09684  1.09685  1.09582  1.09633\n",
       "6 2024-10-07 10:30:00  1.09633  1.09706  1.09614  1.09644\n",
       "7 2024-10-07 10:45:00  1.09644  1.09701  1.09644  1.09695\n",
       "8 2024-10-07 11:00:00  1.09695  1.09750  1.09655  1.09729"
      ],
      "text/html": [
       "<div>\n",
       "<style scoped>\n",
       "    .dataframe tbody tr th:only-of-type {\n",
       "        vertical-align: middle;\n",
       "    }\n",
       "\n",
       "    .dataframe tbody tr th {\n",
       "        vertical-align: top;\n",
       "    }\n",
       "\n",
       "    .dataframe thead th {\n",
       "        text-align: right;\n",
       "    }\n",
       "</style>\n",
       "<table border=\"1\" class=\"dataframe\">\n",
       "  <thead>\n",
       "    <tr style=\"text-align: right;\">\n",
       "      <th></th>\n",
       "      <th>time</th>\n",
       "      <th>open</th>\n",
       "      <th>high</th>\n",
       "      <th>low</th>\n",
       "      <th>close</th>\n",
       "    </tr>\n",
       "  </thead>\n",
       "  <tbody>\n",
       "    <tr>\n",
       "      <th>0</th>\n",
       "      <td>2024-10-07 09:00:00</td>\n",
       "      <td>1.09694</td>\n",
       "      <td>1.09702</td>\n",
       "      <td>1.09635</td>\n",
       "      <td>1.09678</td>\n",
       "    </tr>\n",
       "    <tr>\n",
       "      <th>1</th>\n",
       "      <td>2024-10-07 09:15:00</td>\n",
       "      <td>1.09678</td>\n",
       "      <td>1.09713</td>\n",
       "      <td>1.09639</td>\n",
       "      <td>1.09667</td>\n",
       "    </tr>\n",
       "    <tr>\n",
       "      <th>2</th>\n",
       "      <td>2024-10-07 09:30:00</td>\n",
       "      <td>1.09667</td>\n",
       "      <td>1.09710</td>\n",
       "      <td>1.09662</td>\n",
       "      <td>1.09710</td>\n",
       "    </tr>\n",
       "    <tr>\n",
       "      <th>3</th>\n",
       "      <td>2024-10-07 09:45:00</td>\n",
       "      <td>1.09711</td>\n",
       "      <td>1.09724</td>\n",
       "      <td>1.09666</td>\n",
       "      <td>1.09712</td>\n",
       "    </tr>\n",
       "    <tr>\n",
       "      <th>4</th>\n",
       "      <td>2024-10-07 10:00:00</td>\n",
       "      <td>1.09713</td>\n",
       "      <td>1.09727</td>\n",
       "      <td>1.09677</td>\n",
       "      <td>1.09684</td>\n",
       "    </tr>\n",
       "    <tr>\n",
       "      <th>5</th>\n",
       "      <td>2024-10-07 10:15:00</td>\n",
       "      <td>1.09684</td>\n",
       "      <td>1.09685</td>\n",
       "      <td>1.09582</td>\n",
       "      <td>1.09633</td>\n",
       "    </tr>\n",
       "    <tr>\n",
       "      <th>6</th>\n",
       "      <td>2024-10-07 10:30:00</td>\n",
       "      <td>1.09633</td>\n",
       "      <td>1.09706</td>\n",
       "      <td>1.09614</td>\n",
       "      <td>1.09644</td>\n",
       "    </tr>\n",
       "    <tr>\n",
       "      <th>7</th>\n",
       "      <td>2024-10-07 10:45:00</td>\n",
       "      <td>1.09644</td>\n",
       "      <td>1.09701</td>\n",
       "      <td>1.09644</td>\n",
       "      <td>1.09695</td>\n",
       "    </tr>\n",
       "    <tr>\n",
       "      <th>8</th>\n",
       "      <td>2024-10-07 11:00:00</td>\n",
       "      <td>1.09695</td>\n",
       "      <td>1.09750</td>\n",
       "      <td>1.09655</td>\n",
       "      <td>1.09729</td>\n",
       "    </tr>\n",
       "  </tbody>\n",
       "</table>\n",
       "</div>"
      ]
     },
     "execution_count": 9,
     "metadata": {},
     "output_type": "execute_result"
    }
   ],
   "execution_count": 9
  },
  {
   "metadata": {
    "ExecuteTime": {
     "end_time": "2024-10-07T13:09:54.903827Z",
     "start_time": "2024-10-07T13:09:54.884019Z"
    }
   },
   "cell_type": "code",
   "source": [
    "if datetime.now(tzinfo=timezone('UTC+3')).time() > time(15, 0, 0):\n",
    "    pass"
   ],
   "id": "86ca6ba18349eb44",
   "outputs": [
    {
     "ename": "UnknownTimeZoneError",
     "evalue": "'UTC+3'",
     "output_type": "error",
     "traceback": [
      "\u001B[1;31m---------------------------------------------------------------------------\u001B[0m",
      "\u001B[1;31mUnknownTimeZoneError\u001B[0m                      Traceback (most recent call last)",
      "Cell \u001B[1;32mIn[10], line 1\u001B[0m\n\u001B[1;32m----> 1\u001B[0m \u001B[38;5;28;01mif\u001B[39;00m datetime\u001B[38;5;241m.\u001B[39mnow(tzinfo\u001B[38;5;241m=\u001B[39m\u001B[43mtimezone\u001B[49m\u001B[43m(\u001B[49m\u001B[38;5;124;43m'\u001B[39;49m\u001B[38;5;124;43mUTC+3\u001B[39;49m\u001B[38;5;124;43m'\u001B[39;49m\u001B[43m)\u001B[49m)\u001B[38;5;241m.\u001B[39mtime() \u001B[38;5;241m>\u001B[39m time(\u001B[38;5;241m15\u001B[39m, \u001B[38;5;241m0\u001B[39m, \u001B[38;5;241m0\u001B[39m):\n\u001B[0;32m      2\u001B[0m     \u001B[38;5;28;01mpass\u001B[39;00m\n",
      "File \u001B[1;32m~\\atj-algotrading-edu\\venv\\Lib\\site-packages\\pytz\\__init__.py:188\u001B[0m, in \u001B[0;36mtimezone\u001B[1;34m(zone)\u001B[0m\n\u001B[0;32m    186\u001B[0m             fp\u001B[38;5;241m.\u001B[39mclose()\n\u001B[0;32m    187\u001B[0m     \u001B[38;5;28;01melse\u001B[39;00m:\n\u001B[1;32m--> 188\u001B[0m         \u001B[38;5;28;01mraise\u001B[39;00m UnknownTimeZoneError(zone)\n\u001B[0;32m    190\u001B[0m \u001B[38;5;28;01mreturn\u001B[39;00m _tzinfo_cache[zone]\n",
      "\u001B[1;31mUnknownTimeZoneError\u001B[0m: 'UTC+3'"
     ]
    }
   ],
   "execution_count": 10
  },
  {
   "metadata": {
    "ExecuteTime": {
     "end_time": "2024-10-07T13:16:35.291680Z",
     "start_time": "2024-10-07T13:16:35.286840Z"
    }
   },
   "cell_type": "code",
   "source": "print(datetime.now(tz=timezone('EET')))",
   "id": "12258105fb7fbe6e",
   "outputs": [
    {
     "name": "stdout",
     "output_type": "stream",
     "text": [
      "2024-10-07 16:16:35.288838+03:00\n"
     ]
    }
   ],
   "execution_count": 24
  },
  {
   "metadata": {},
   "cell_type": "code",
   "outputs": [],
   "execution_count": null,
   "source": "",
   "id": "44603292f23275e3"
  }
 ],
 "metadata": {
  "kernelspec": {
   "display_name": "Python 3",
   "language": "python",
   "name": "python3"
  },
  "language_info": {
   "codemirror_mode": {
    "name": "ipython",
    "version": 2
   },
   "file_extension": ".py",
   "mimetype": "text/x-python",
   "name": "python",
   "nbconvert_exporter": "python",
   "pygments_lexer": "ipython2",
   "version": "2.7.6"
  }
 },
 "nbformat": 4,
 "nbformat_minor": 5
}
