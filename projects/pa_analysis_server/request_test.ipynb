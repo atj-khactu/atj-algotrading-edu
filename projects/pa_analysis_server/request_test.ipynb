{
 "cells": [
  {
   "cell_type": "code",
   "id": "initial_id",
   "metadata": {
    "collapsed": true,
    "ExecuteTime": {
     "end_time": "2024-10-23T17:10:45.738175Z",
     "start_time": "2024-10-23T17:10:45.735452Z"
    }
   },
   "source": "import requests",
   "outputs": [],
   "execution_count": 19
  },
  {
   "metadata": {
    "ExecuteTime": {
     "end_time": "2024-10-23T17:10:46.118207Z",
     "start_time": "2024-10-23T17:10:46.115589Z"
    }
   },
   "cell_type": "code",
   "source": [
    "ohlc_data = {\n",
    "    'ohlc': [{'time': 0, 'open': 100, 'high': 105, 'low': 95, 'close': 98},\n",
    "             {'time': 1, 'open': 98, 'high': 110, 'low': 100, 'close': 103}]\n",
    "\n",
    "}"
   ],
   "id": "168dcfce356867bf",
   "outputs": [],
   "execution_count": 20
  },
  {
   "metadata": {
    "ExecuteTime": {
     "end_time": "2024-10-23T17:14:22.263689Z",
     "start_time": "2024-10-23T17:14:22.254336Z"
    }
   },
   "cell_type": "code",
   "source": [
    "res = requests.get('http://127.0.0.1:5005/get-high-low', json=ohlc_data)\n",
    "print(res.text)"
   ],
   "id": "870487e399945e30",
   "outputs": [
    {
     "name": "stdout",
     "output_type": "stream",
     "text": [
      "{\"resistance\":110.0,\"support\":95.0}\n",
      "\n"
     ]
    }
   ],
   "execution_count": 25
  },
  {
   "metadata": {},
   "cell_type": "code",
   "outputs": [],
   "execution_count": null,
   "source": "",
   "id": "d2c4efdc89aecdee"
  }
 ],
 "metadata": {
  "kernelspec": {
   "display_name": "Python 3",
   "language": "python",
   "name": "python3"
  },
  "language_info": {
   "codemirror_mode": {
    "name": "ipython",
    "version": 2
   },
   "file_extension": ".py",
   "mimetype": "text/x-python",
   "name": "python",
   "nbconvert_exporter": "python",
   "pygments_lexer": "ipython2",
   "version": "2.7.6"
  }
 },
 "nbformat": 4,
 "nbformat_minor": 5
}
