{
 "cells": [
  {
   "cell_type": "code",
   "execution_count": 1,
   "outputs": [],
   "source": [
    "import MetaTrader5 as mt5\n",
    "import pandas as pd"
   ],
   "metadata": {
    "collapsed": false,
    "pycharm": {
     "name": "#%%\n"
    }
   }
  },
  {
   "cell_type": "code",
   "execution_count": 3,
   "outputs": [
    {
     "data": {
      "text/plain": "True"
     },
     "execution_count": 3,
     "metadata": {},
     "output_type": "execute_result"
    }
   ],
   "source": [
    "# initialize and login to MetaTrader5\n",
    "mt5.initialize()\n",
    "\n",
    "# Click here to open your own trading account at Tickmill \n",
    "# https://www.tickmill.com/eu\n",
    "login = 25131017\n",
    "password = 'vT8.iqYHWia!'\n",
    "server = 'TickmillEU-Demo'\n",
    "\n",
    "mt5.login(login, password, server)"
   ],
   "metadata": {
    "collapsed": false,
    "pycharm": {
     "name": "#%%\n"
    }
   }
  },
  {
   "cell_type": "code",
   "execution_count": 23,
   "outputs": [
    {
     "data": {
      "text/plain": "OrderSendResult(retcode=10009, deal=403247691, order=549236243, volume=0.1, price=1.0963, bid=1.0963, ask=1.0963, comment='Request executed', request_id=3051753336, retcode_external=0, request=TradeRequest(action=1, magic=0, order=0, symbol='EURUSD', volume=0.1, price=1.0963, stoplimit=0.0, sl=1.0, tp=1.2, deviation=20, type=0, type_filling=1, type_time=0, expiration=0, comment='python market order', position=0, position_by=0))"
     },
     "execution_count": 23,
     "metadata": {},
     "output_type": "execute_result"
    }
   ],
   "source": [
    "# market order\n",
    "\n",
    "symbol = 'EURUSD'\n",
    "volume = 0.1\n",
    "action = mt5.TRADE_ACTION_DEAL\n",
    "order_type = mt5.ORDER_TYPE_BUY\n",
    "\n",
    "stop_loss = 1.0  # set to 0.0 if you don't want SL\n",
    "take_profit = 1.2  # set to 0.0 if you don't want TP\n",
    "\n",
    "def get_market_price(symbol, type):\n",
    "    if type == mt5.ORDER_TYPE_BUY:\n",
    "        return mt5.symbol_info(symbol).ask\n",
    "    elif type == mt5.ORDER_TYPE_SELL:\n",
    "        return mt5.symbol_info(symbol).bid\n",
    "\n",
    "request = {\n",
    "    \"action\": action,\n",
    "    \"symbol\": 'EURUSD',\n",
    "    \"volume\": 0.1,  # float\n",
    "    \"type\": mt5.ORDER_TYPE_BUY,\n",
    "    \"price\": get_market_price('EURUSD', 0),\n",
    "    \"sl\": stop_loss,  # float\n",
    "    \"tp\": take_profit,  # float\n",
    "    \"deviation\": 20,\n",
    "    \"magic\": 0,\n",
    "    \"comment\": \"python market order\",\n",
    "    \"type_time\": mt5.ORDER_TIME_GTC,\n",
    "    \"type_filling\": mt5.ORDER_FILLING_IOC,  # some brokers accept mt5.ORDER_FILLING_FOK only\n",
    "}\n",
    "\n",
    "res = mt5.order_send(request)\n",
    "res"
   ],
   "metadata": {
    "collapsed": false,
    "pycharm": {
     "name": "#%%\n"
    }
   }
  },
  {
   "cell_type": "code",
   "execution_count": 40,
   "outputs": [
    {
     "name": "stdout",
     "output_type": "stream",
     "text": [
      "open positions (TradePosition(ticket=549258579, time=1703090156, time_msc=1703090156758, time_update=1703090156, time_update_msc=1703090156758, type=0, magic=0, identifier=549258579, reason=0, volume=0.5, price_open=1.09641, sl=0.0, tp=0.0, price_current=1.09649, swap=0.0, profit=4.0, symbol='EURUSD', comment='', external_id=''),)\n"
     ]
    },
    {
     "data": {
      "text/plain": "OrderSendResult(retcode=10009, deal=0, order=0, volume=0.0, price=0.0, bid=0.0, ask=0.0, comment='Request executed', request_id=3051753347, retcode_external=0, request=TradeRequest(action=6, magic=0, order=0, symbol='', volume=0.0, price=0.0, stoplimit=0.0, sl=1.05, tp=1.15, deviation=0, type=0, type_filling=0, type_time=0, expiration=0, comment='', position=549258579, position_by=0))"
     },
     "execution_count": 40,
     "metadata": {},
     "output_type": "execute_result"
    }
   ],
   "source": [
    "# modify SL/TP\n",
    "\n",
    "stop_loss = 1.05  # set to 0.0 if you don't want SL\n",
    "take_profit = 1.15  # set to 0.0 if you don't want TP\n",
    "\n",
    "positions = mt5.positions_get()\n",
    "print('open positions', positions)\n",
    "\n",
    "# Working with 1st position in the list and closing it\n",
    "pos1 = positions[0]\n",
    "\n",
    "request = {\n",
    "    'action': mt5.TRADE_ACTION_SLTP,\n",
    "    'position': pos1.ticket,\n",
    "    'sl': stop_loss,\n",
    "    'tp': take_profit\n",
    "}\n",
    "\n",
    "res = mt5.order_send(request)\n",
    "res"
   ],
   "metadata": {
    "collapsed": false,
    "pycharm": {
     "name": "#%%\n"
    }
   }
  },
  {
   "cell_type": "code",
   "execution_count": 10,
   "outputs": [
    {
     "name": "stdout",
     "output_type": "stream",
     "text": [
      "open positions (TradePosition(ticket=549223046, time=1703088728, time_msc=1703088728288, time_update=1703088728, time_update_msc=1703088728288, type=0, magic=0, identifier=549223046, reason=3, volume=0.1, price_open=1.0965, sl=0.0, tp=0.0, price_current=1.09676, swap=0.0, profit=2.6, symbol='EURUSD', comment='python market or', external_id=''),)\n"
     ]
    },
    {
     "data": {
      "text/plain": "OrderSendResult(retcode=10009, deal=403242591, order=549228194, volume=0.1, price=1.09676, bid=1.09676, ask=1.09676, comment='Request executed', request_id=3051753323, retcode_external=0, request=TradeRequest(action=1, magic=0, order=0, symbol='EURUSD', volume=0.1, price=1.09676, stoplimit=0.0, sl=0.0, tp=0.0, deviation=20, type=1, type_filling=1, type_time=0, expiration=0, comment='python close order', position=549223046, position_by=0))"
     },
     "execution_count": 10,
     "metadata": {},
     "output_type": "execute_result"
    }
   ],
   "source": [
    "# close position\n",
    "\n",
    "positions = mt5.positions_get()\n",
    "print('open positions', positions)\n",
    "\n",
    "# Working with 1st position in the list and closing it\n",
    "pos1 = positions[0]\n",
    "\n",
    "def reverse_type(type):\n",
    "    # to close a buy positions, you must perform a sell position and vice versa\n",
    "    if type == mt5.ORDER_TYPE_BUY:\n",
    "        return mt5.ORDER_TYPE_SELL\n",
    "    elif type == mt5.ORDER_TYPE_SELL:\n",
    "        return mt5.ORDER_TYPE_BUY\n",
    "\n",
    "\n",
    "def get_close_price(symbol, type):\n",
    "    if type == mt5.ORDER_TYPE_BUY:\n",
    "        return mt5.symbol_info(symbol).bid\n",
    "    elif type == mt5.ORDER_TYPE_SELL:\n",
    "        return mt5.symbol_info(symbol).ask\n",
    "\n",
    "request = {\n",
    "    \"action\": mt5.TRADE_ACTION_DEAL,\n",
    "    \"position\": pos1.ticket,\n",
    "    \"symbol\": pos1.symbol,\n",
    "    \"volume\": pos1.volume,\n",
    "    \"type\": reverse_type(pos1.type),\n",
    "    \"price\":get_close_price(pos1.symbol, pos1.type),\n",
    "    \"deviation\": 20,\n",
    "    \"magic\": 0,\n",
    "    \"comment\": \"python close order\",\n",
    "    \"type_time\": mt5.ORDER_TIME_GTC,\n",
    "    \"type_filling\": mt5.ORDER_FILLING_IOC,  # some brokers accept mt5.ORDER_FILLING_FOK only\n",
    "}\n",
    "\n",
    "res = mt5.order_send(request)\n",
    "res"
   ],
   "metadata": {
    "collapsed": false,
    "pycharm": {
     "name": "#%%\n"
    }
   }
  },
  {
   "cell_type": "code",
   "execution_count": 24,
   "outputs": [
    {
     "name": "stdout",
     "output_type": "stream",
     "text": [
      "open positions ()\n"
     ]
    },
    {
     "ename": "IndexError",
     "evalue": "tuple index out of range",
     "output_type": "error",
     "traceback": [
      "\u001B[1;31m---------------------------------------------------------------------------\u001B[0m",
      "\u001B[1;31mIndexError\u001B[0m                                Traceback (most recent call last)",
      "Cell \u001B[1;32mIn [24], line 8\u001B[0m\n\u001B[0;32m      5\u001B[0m \u001B[38;5;28mprint\u001B[39m(\u001B[38;5;124m'\u001B[39m\u001B[38;5;124mopen positions\u001B[39m\u001B[38;5;124m'\u001B[39m, positions)\n\u001B[0;32m      7\u001B[0m \u001B[38;5;66;03m# Working with 1st position in the list and closing it\u001B[39;00m\n\u001B[1;32m----> 8\u001B[0m pos1 \u001B[38;5;241m=\u001B[39m positions[\u001B[38;5;241m0\u001B[39m]\n\u001B[0;32m     10\u001B[0m \u001B[38;5;28;01mdef\u001B[39;00m \u001B[38;5;21mreverse_type\u001B[39m(\u001B[38;5;28mtype\u001B[39m):\n\u001B[0;32m     11\u001B[0m     \u001B[38;5;66;03m# to close a buy positions, you must perform a sell position and vice versa\u001B[39;00m\n\u001B[0;32m     12\u001B[0m     \u001B[38;5;28;01mif\u001B[39;00m \u001B[38;5;28mtype\u001B[39m \u001B[38;5;241m==\u001B[39m \u001B[38;5;241m0\u001B[39m:\n",
      "\u001B[1;31mIndexError\u001B[0m: tuple index out of range"
     ]
    }
   ],
   "source": [
    "# partial close position\n",
    "perc_close = 0.5\n",
    "\n",
    "positions = mt5.positions_get()\n",
    "print('open positions', positions)\n",
    "\n",
    "# Working with 1st position in the list and closing it\n",
    "pos1 = positions[0]\n",
    "\n",
    "def reverse_type(type):\n",
    "    # to close a buy positions, you must perform a sell position and vice versa\n",
    "    if type == 0:\n",
    "        return 1\n",
    "    elif type == 1:\n",
    "        return 0\n",
    "\n",
    "\n",
    "def get_close_price(symbol, type):\n",
    "    if type == 0:\n",
    "        return mt5.symbol_info(symbol).bid\n",
    "    elif type == 1:\n",
    "        return mt5.symbol_info(symbol).ask\n",
    "\n",
    "request = {\n",
    "    \"action\": mt5.TRADE_ACTION_DEAL,\n",
    "    \"position\": pos1.ticket,\n",
    "    \"symbol\": pos1.symbol,\n",
    "    \"volume\": round(pos1.volume * perc_close, 2),  # closing only half\n",
    "    \"type\": reverse_type(pos1.type),\n",
    "    \"price\":get_close_price(pos1.symbol, pos1.type),\n",
    "    \"deviation\": 20,\n",
    "    \"magic\": 0,\n",
    "    \"comment\": \"python partial close order\",\n",
    "    \"type_time\": mt5.ORDER_TIME_GTC,\n",
    "    \"type_filling\": mt5.ORDER_FILLING_IOC,  # some brokers accept mt5.ORDER_FILLING_FOK only\n",
    "}\n",
    "\n",
    "res = mt5.order_send(request)\n",
    "res"
   ],
   "metadata": {
    "collapsed": false,
    "pycharm": {
     "name": "#%%\n"
    }
   }
  },
  {
   "cell_type": "code",
   "execution_count": 25,
   "outputs": [
    {
     "data": {
      "text/plain": "OrderSendResult(retcode=10009, deal=0, order=549245467, volume=0.1, price=0.0, bid=0.0, ask=0.0, comment='Request executed', request_id=3051753338, retcode_external=0, request=TradeRequest(action=5, magic=0, order=0, symbol='EURUSD', volume=0.1, price=1.0, stoplimit=0.0, sl=0.9, tp=1.2, deviation=20, type=2, type_filling=1, type_time=0, expiration=0, comment='python market order', position=0, position_by=0))"
     },
     "execution_count": 25,
     "metadata": {},
     "output_type": "execute_result"
    }
   ],
   "source": [
    "# limit orders\n",
    "\n",
    "symbol = 'EURUSD'\n",
    "volume = 0.1\n",
    "\n",
    "action = mt5.TRADE_ACTION_PENDING\n",
    "order_type = mt5.ORDER_TYPE_BUY_LIMIT\n",
    "limit_price = 1.0\n",
    "\n",
    "stop_loss = 0.9  # set to 0.0 if you don't want SL\n",
    "take_profit = 1.2  # set to 0.0 if you don't want TP\n",
    "\n",
    "request = {\n",
    "    \"action\": action,\n",
    "    \"symbol\": 'EURUSD',\n",
    "    \"volume\": 0.1,  # float\n",
    "    \"type\": order_type,\n",
    "    \"price\": limit_price,\n",
    "    \"sl\": stop_loss,  # float\n",
    "    \"tp\": take_profit,  # float\n",
    "    \"deviation\": 20,\n",
    "    \"magic\": 0,\n",
    "    \"comment\": \"python market order\",\n",
    "    \"type_time\": mt5.ORDER_TIME_GTC,\n",
    "    \"type_filling\": mt5.ORDER_FILLING_IOC,  # some brokers accept mt5.ORDER_FILLING_FOK only\n",
    "}\n",
    "\n",
    "res = mt5.order_send(request)\n",
    "res"
   ],
   "metadata": {
    "collapsed": false,
    "pycharm": {
     "name": "#%%\n"
    }
   }
  },
  {
   "cell_type": "code",
   "execution_count": 33,
   "outputs": [
    {
     "data": {
      "text/plain": "OrderSendResult(retcode=10009, deal=0, order=549255173, volume=0.1, price=0.0, bid=0.0, ask=0.0, comment='Request executed', request_id=3051753344, retcode_external=0, request=TradeRequest(action=5, magic=0, order=0, symbol='EURUSD', volume=0.1, price=1.2, stoplimit=0.0, sl=1.0, tp=1.3, deviation=20, type=4, type_filling=1, type_time=0, expiration=0, comment='python market order', position=0, position_by=0))"
     },
     "execution_count": 33,
     "metadata": {},
     "output_type": "execute_result"
    }
   ],
   "source": [
    "# stop orders\n",
    "\n",
    "symbol = 'EURUSD'\n",
    "volume = 0.1\n",
    "\n",
    "action = mt5.TRADE_ACTION_PENDING\n",
    "order_type = mt5.ORDER_TYPE_BUY_STOP\n",
    "stop_price = 1.2\n",
    "\n",
    "stop_loss = 1.0  # set to 0.0 if you don't want SL\n",
    "take_profit = 1.3  # set to 0.0 if you don't want TP\n",
    "\n",
    "request = {\n",
    "    \"action\": action,\n",
    "    \"symbol\": 'EURUSD',\n",
    "    \"volume\": 0.1,  # float\n",
    "    \"type\": order_type,\n",
    "    \"price\": stop_price,\n",
    "    \"sl\": stop_loss,  # float\n",
    "    \"tp\": take_profit,  # float\n",
    "    \"deviation\": 20,\n",
    "    \"magic\": 0,\n",
    "    \"comment\": \"python market order\",\n",
    "    \"type_time\": mt5.ORDER_TIME_GTC,\n",
    "    \"type_filling\": mt5.ORDER_FILLING_IOC,  # some brokers accept mt5.ORDER_FILLING_FOK only\n",
    "}\n",
    "\n",
    "res = mt5.order_send(request)\n",
    "res"
   ],
   "metadata": {
    "collapsed": false,
    "pycharm": {
     "name": "#%%\n"
    }
   }
  },
  {
   "cell_type": "code",
   "execution_count": 34,
   "outputs": [
    {
     "name": "stdout",
     "output_type": "stream",
     "text": [
      "open pending orders (TradeOrder(ticket=549255173, time_setup=1703090046, time_setup_msc=1703090046172, time_done=0, time_done_msc=0, time_expiration=0, type=4, type_time=0, type_filling=2, state=1, magic=0, position_id=0, position_by_id=0, reason=3, volume_initial=0.1, volume_current=0.1, price_open=1.2, sl=1.0, tp=1.3, price_current=1.09654, price_stoplimit=0.0, symbol='EURUSD', comment='python market or', external_id=''),)\n"
     ]
    },
    {
     "data": {
      "text/plain": "OrderSendResult(retcode=10009, deal=0, order=549255173, volume=0.0, price=0.0, bid=0.0, ask=0.0, comment='Request executed', request_id=3051753345, retcode_external=0, request=TradeRequest(action=8, magic=0, order=549255173, symbol='', volume=0.0, price=0.0, stoplimit=0.0, sl=0.0, tp=0.0, deviation=0, type=0, type_filling=0, type_time=0, expiration=0, comment='', position=0, position_by=0))"
     },
     "execution_count": 34,
     "metadata": {},
     "output_type": "execute_result"
    }
   ],
   "source": [
    "# Remove Pending Order\n",
    "pending_orders = mt5.orders_get()\n",
    "print('open pending orders', pending_orders)\n",
    "\n",
    "order1 = pending_orders[0]\n",
    "\n",
    "request = {\n",
    "    'action': mt5.TRADE_ACTION_REMOVE,\n",
    "    'order': order1.ticket\n",
    "}\n",
    "\n",
    "mt5.order_send(request)"
   ],
   "metadata": {
    "collapsed": false,
    "pycharm": {
     "name": "#%%\n"
    }
   }
  },
  {
   "cell_type": "code",
   "execution_count": null,
   "outputs": [],
   "source": [],
   "metadata": {
    "collapsed": false,
    "pycharm": {
     "name": "#%%\n"
    }
   }
  }
 ],
 "metadata": {
  "kernelspec": {
   "display_name": "Python 3",
   "language": "python",
   "name": "python3"
  },
  "language_info": {
   "codemirror_mode": {
    "name": "ipython",
    "version": 2
   },
   "file_extension": ".py",
   "mimetype": "text/x-python",
   "name": "python",
   "nbconvert_exporter": "python",
   "pygments_lexer": "ipython2",
   "version": "2.7.6"
  }
 },
 "nbformat": 4,
 "nbformat_minor": 0
}
